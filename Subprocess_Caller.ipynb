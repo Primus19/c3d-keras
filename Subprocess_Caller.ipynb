{
 "cells": [
  {
   "cell_type": "code",
   "execution_count": 1,
   "metadata": {},
   "outputs": [],
   "source": [
    "import subprocess"
   ]
  },
  {
   "cell_type": "code",
   "execution_count": 2,
   "metadata": {},
   "outputs": [
    {
     "name": "stdout",
     "output_type": "stream",
     "text": [
      "0\n",
      "Process Completed\n",
      "1\n",
      "Process Completed\n",
      "2\n",
      "Process Completed\n",
      "3\n",
      "Process Completed\n",
      "4\n",
      "Process Completed\n",
      "5\n",
      "Process Completed\n",
      "6\n",
      "Process Completed\n",
      "7\n",
      "Process Completed\n",
      "8\n",
      "Process Completed\n",
      "9\n",
      "Process Completed\n",
      "10\n",
      "Process Completed\n",
      "11\n",
      "Process Completed\n",
      "12\n",
      "Process Completed\n",
      "13\n",
      "Process Completed\n",
      "14\n",
      "Process Completed\n"
     ]
    }
   ],
   "source": [
    "for i in range(15):\n",
    "    print(i)\n",
    "    cmd = ['python', 'python_subprocess.py', str(i)]\n",
    "    # subprocess.check_output([\"python\", \"python_subprocess.py\", str(i)])\n",
    "    # subprocess.call([\"python\", \"python_subprocess.py\", str(i)])\n",
    "    # subprocess.Popen(cmd).wait()\n",
    "    proc = subprocess.Popen(cmd)\n",
    "    try:\n",
    "        outs, errs = proc.communicate(timeout=20000)\n",
    "    except subprocess.TimeoutExpired:\n",
    "        print('Process Terminated')\n",
    "        proc.kill()\n",
    "        outs, errs = proc.communicate()\n",
    "    finally:\n",
    "        print('Process Completed')\n",
    "        proc.kill()\n",
    "        outs, errs = proc.communicate()"
   ]
  },
  {
   "cell_type": "code",
   "execution_count": null,
   "metadata": {},
   "outputs": [
    {
     "name": "stdout",
     "output_type": "stream",
     "text": [
      "22\n"
     ]
    }
   ],
   "source": [
    "for i in range(7 + 15, 10 + 15):\n",
    "    print(i)\n",
    "    cmd = ['python', 'python_subprocess.py', str(i)]\n",
    "    # subprocess.check_output([\"python\", \"python_subprocess.py\", str(i)])\n",
    "    # subprocess.call([\"python\", \"python_subprocess.py\", str(i)])\n",
    "    # subprocess.Popen(cmd).wait()\n",
    "    proc = subprocess.Popen(cmd)\n",
    "    try:\n",
    "        outs, errs = proc.communicate(timeout=20000)\n",
    "    except subprocess.TimeoutExpired:\n",
    "        print('Process Terminated')\n",
    "        proc.kill()\n",
    "        outs, errs = proc.communicate()\n",
    "    finally:\n",
    "        print('Process Completed')\n",
    "        proc.kill()\n",
    "        outs, errs = proc.communicate()"
   ]
  },
  {
   "cell_type": "code",
   "execution_count": 2,
   "metadata": {},
   "outputs": [
    {
     "name": "stdout",
     "output_type": "stream",
     "text": [
      "25\n",
      "Process Completed\n",
      "26\n",
      "Process Completed\n",
      "27\n",
      "Process Completed\n",
      "28\n",
      "Process Completed\n",
      "29\n",
      "Process Completed\n"
     ]
    }
   ],
   "source": [
    "for i in range(25, 25 + 5):\n",
    "    print(i)\n",
    "    cmd = ['python', 'python_subprocess.py', str(i)]\n",
    "    # subprocess.check_output([\"python\", \"python_subprocess.py\", str(i)])\n",
    "    # subprocess.call([\"python\", \"python_subprocess.py\", str(i)])\n",
    "    # subprocess.Popen(cmd).wait()\n",
    "    proc = subprocess.Popen(cmd)\n",
    "    try:\n",
    "        outs, errs = proc.communicate(timeout=20000)\n",
    "    except subprocess.TimeoutExpired:\n",
    "        print('Process Terminated')\n",
    "        proc.kill()\n",
    "        outs, errs = proc.communicate()\n",
    "    finally:\n",
    "        print('Process Completed')\n",
    "        proc.kill()\n",
    "        outs, errs = proc.communicate()"
   ]
  },
  {
   "cell_type": "code",
   "execution_count": null,
   "metadata": {},
   "outputs": [],
   "source": []
  }
 ],
 "metadata": {
  "kernelspec": {
   "display_name": "Python 3",
   "language": "python",
   "name": "python3"
  },
  "language_info": {
   "codemirror_mode": {
    "name": "ipython",
    "version": 3
   },
   "file_extension": ".py",
   "mimetype": "text/x-python",
   "name": "python",
   "nbconvert_exporter": "python",
   "pygments_lexer": "ipython3",
   "version": "3.5.2"
  }
 },
 "nbformat": 4,
 "nbformat_minor": 2
}
