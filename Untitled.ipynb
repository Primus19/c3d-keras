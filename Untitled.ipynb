{
 "cells": [
  {
   "cell_type": "code",
   "execution_count": 1,
   "metadata": {},
   "outputs": [],
   "source": [
    "import pickle\n",
    "import os\n",
    "from os.path import join"
   ]
  },
  {
   "cell_type": "code",
   "execution_count": 2,
   "metadata": {},
   "outputs": [
    {
     "name": "stdout",
     "output_type": "stream",
     "text": [
      "model_c3d_026: 0.6909090909090908\n",
      "model_c3d_027: 0.6272727272727272\n",
      "model_c3d_028: 0.6011363636363637\n",
      "model_c3d_029: 0.7238636363636364\n",
      "model_c3d_030: 0.7090909090909092\n",
      "model_c3d_031: 0.6715909090909091\n",
      "model_c3d_032: 0.6011363636363637\n",
      "model_c3d_033: 0.6090909090909091\n",
      "model_c3d_034: 0.65\n",
      "model_c3d_035: 0.625\n",
      "model_c3d_036: 0.7238636363636364\n",
      "model_c3d_037: 0.5238636363636363\n",
      "model_c3d_038: 0.6204545454545455\n",
      "model_c3d_039: 0.5545454545454545\n",
      "model_c3d_040: 0.7409090909090909\n",
      "model_c3d_041: 0.634090909090909\n",
      "model_c3d_042: 0.7204545454545455\n",
      "model_c3d_043: 0.7534090909090909\n",
      "model_c3d_044: 0.7522727272727272\n",
      "model_c3d_045: 0.5818181818181818\n",
      "model_c3d_046: 0.6306818181818181\n"
     ]
    },
    {
     "ename": "FileNotFoundError",
     "evalue": "[Errno 2] No such file or directory: '../models/model_c3d_047/loss_testing_results.pkl'",
     "output_type": "error",
     "traceback": [
      "\u001b[0;31m---------------------------------------------------------------------------\u001b[0m",
      "\u001b[0;31mFileNotFoundError\u001b[0m                         Traceback (most recent call last)",
      "\u001b[0;32m<ipython-input-2-9c51b72d504f>\u001b[0m in \u001b[0;36m<module>\u001b[0;34m()\u001b[0m\n\u001b[1;32m      3\u001b[0m     \u001b[0mfolder\u001b[0m \u001b[0;34m=\u001b[0m \u001b[0;34m'model_c3d_0{}'\u001b[0m\u001b[0;34m.\u001b[0m\u001b[0mformat\u001b[0m\u001b[0;34m(\u001b[0m\u001b[0mi\u001b[0m\u001b[0;34m)\u001b[0m\u001b[0;34m\u001b[0m\u001b[0m\n\u001b[1;32m      4\u001b[0m     \u001b[0mloss\u001b[0m \u001b[0;34m=\u001b[0m \u001b[0mjoin\u001b[0m\u001b[0;34m(\u001b[0m\u001b[0;34m'..'\u001b[0m\u001b[0;34m,\u001b[0m \u001b[0;34m'models'\u001b[0m\u001b[0;34m,\u001b[0m \u001b[0mfolder\u001b[0m\u001b[0;34m,\u001b[0m \u001b[0;34m'loss_testing_results.pkl'\u001b[0m\u001b[0;34m)\u001b[0m\u001b[0;34m\u001b[0m\u001b[0m\n\u001b[0;32m----> 5\u001b[0;31m     \u001b[0mloss_list\u001b[0m \u001b[0;34m=\u001b[0m \u001b[0mpickle\u001b[0m\u001b[0;34m.\u001b[0m\u001b[0mload\u001b[0m\u001b[0;34m(\u001b[0m \u001b[0mopen\u001b[0m\u001b[0;34m(\u001b[0m\u001b[0mloss\u001b[0m\u001b[0;34m,\u001b[0m \u001b[0;34m'rb'\u001b[0m\u001b[0;34m)\u001b[0m\u001b[0;34m)\u001b[0m\u001b[0;34m\u001b[0m\u001b[0m\n\u001b[0m\u001b[1;32m      6\u001b[0m     \u001b[0maccs\u001b[0m\u001b[0;34m[\u001b[0m\u001b[0mloss\u001b[0m\u001b[0;34m]\u001b[0m \u001b[0;34m=\u001b[0m \u001b[0msum\u001b[0m\u001b[0;34m(\u001b[0m\u001b[0;34m[\u001b[0m\u001b[0mel\u001b[0m\u001b[0;34m[\u001b[0m\u001b[0;36m1\u001b[0m\u001b[0;34m]\u001b[0m \u001b[0;32mfor\u001b[0m \u001b[0mel\u001b[0m \u001b[0;32min\u001b[0m \u001b[0mloss_list\u001b[0m\u001b[0;34m]\u001b[0m\u001b[0;34m)\u001b[0m \u001b[0;34m/\u001b[0m \u001b[0mlen\u001b[0m\u001b[0;34m(\u001b[0m\u001b[0mloss_list\u001b[0m\u001b[0;34m)\u001b[0m\u001b[0;34m\u001b[0m\u001b[0m\n\u001b[1;32m      7\u001b[0m     \u001b[0mprint\u001b[0m\u001b[0;34m(\u001b[0m\u001b[0;34m'{}: {}'\u001b[0m\u001b[0;34m.\u001b[0m\u001b[0mformat\u001b[0m\u001b[0;34m(\u001b[0m\u001b[0mfolder\u001b[0m\u001b[0;34m,\u001b[0m \u001b[0maccs\u001b[0m\u001b[0;34m[\u001b[0m\u001b[0mloss\u001b[0m\u001b[0;34m]\u001b[0m\u001b[0;34m)\u001b[0m\u001b[0;34m)\u001b[0m\u001b[0;34m\u001b[0m\u001b[0m\n",
      "\u001b[0;31mFileNotFoundError\u001b[0m: [Errno 2] No such file or directory: '../models/model_c3d_047/loss_testing_results.pkl'"
     ]
    }
   ],
   "source": [
    "accs = {}\n",
    "for i in range(26, 50):\n",
    "    folder = 'model_c3d_0{}'.format(i)\n",
    "    loss = join('..', 'models', folder, 'loss_testing_results.pkl')\n",
    "    loss_list = pickle.load( open(loss, 'rb'))\n",
    "    accs[loss] = sum([el[1] for el in loss_list]) / len(loss_list)\n",
    "    print('{}: {}'.format(folder, accs[loss]))"
   ]
  },
  {
   "cell_type": "code",
   "execution_count": null,
   "metadata": {},
   "outputs": [],
   "source": [
    "accs = {}\n",
    "hists = {}\n",
    "for i in range(26, 50):\n",
    "    folder = 'model_c3d_0{}'.format(i)\n",
    "    hist_name = '{}_history.pkl'.format(folder)\n",
    "    loss = join('..', 'models', folder, 'final_testing_results.pkl')\n",
    "    hist = join('..', 'models', folder, hist_name)\n",
    "    loss_list = pickle.load( open(loss, 'rb'))\n",
    "    hist_obj = pickle.load( open(hist, 'rb'))\n",
    "    accs[folder] = sum([el[1] for el in loss_list]) / len(loss_list)\n",
    "    hists[folder] = hist_obj\n",
    "    print('{}: {}'.format(folder, accs[folder]))"
   ]
  },
  {
   "cell_type": "code",
   "execution_count": null,
   "metadata": {},
   "outputs": [],
   "source": [
    "print(hists.keys())\n",
    "for i in range(26, 50):\n",
    "    folder = 'model_c3d_0{}'.format(i)\n",
    "    hist_name = '{}_history.pkl'.format(folder)\n",
    "    loss = join('..', 'models', folder, 'final_testing_results.pkl')\n",
    "    hist = join('..', 'models', folder, hist_name)\n",
    "    loss_list = pickle.load( open(loss, 'rb'))\n",
    "    hist_obj = pickle.load( open(hist, 'rb'))\n",
    "    accs[folder] = sum([el[1] for el in loss_list]) / len(loss_list)\n",
    "    hists[folder] = hist_obj\n",
    "    print('{}: {}'.format(folder, accs[folder]))"
   ]
  },
  {
   "cell_type": "code",
   "execution_count": 13,
   "metadata": {},
   "outputs": [
    {
     "name": "stdout",
     "output_type": "stream",
     "text": [
      "[1, 2, 3, 4, 1, 2, 3, 4, 1, 2, 3, 4]\n"
     ]
    }
   ],
   "source": [
    "a = [1, 2, 3, 4]\n",
    "b = a\n",
    "c = a\n",
    "d = a + b + c\n",
    "\n",
    "print(d)"
   ]
  },
  {
   "cell_type": "code",
   "execution_count": 7,
   "metadata": {},
   "outputs": [
    {
     "name": "stdout",
     "output_type": "stream",
     "text": [
      "model_c3d_026: 0.5772727272727273\n",
      "model_c3d_027: 0.6863636363636363\n",
      "model_c3d_028: 0.6534090909090909\n",
      "model_c3d_029: 0.7306818181818182\n",
      "model_c3d_030: 0.7056818181818182\n",
      "model_c3d_031: 0.615909090909091\n",
      "model_c3d_032: 0.6113636363636363\n",
      "model_c3d_033: 0.6852272727272727\n",
      "model_c3d_034: 0.6738636363636364\n",
      "model_c3d_035: 0.7352272727272727\n",
      "model_c3d_036: 0.7238636363636364\n",
      "model_c3d_037: 0.5204545454545455\n",
      "model_c3d_038: 0.6863636363636364\n",
      "model_c3d_039: 0.6022727272727273\n",
      "model_c3d_040: 0.6193181818181819\n",
      "model_c3d_041: 0.7125\n",
      "model_c3d_042: 0.7193181818181819\n",
      "model_c3d_043: 0.6670454545454545\n",
      "model_c3d_044: 0.7534090909090909\n",
      "model_c3d_045: 0.6363636363636365\n",
      "model_c3d_046: 0.6318181818181817\n"
     ]
    },
    {
     "ename": "FileNotFoundError",
     "evalue": "[Errno 2] No such file or directory: '../models/model_c3d_047/acc_testing_results.pkl'",
     "output_type": "error",
     "traceback": [
      "\u001b[0;31m---------------------------------------------------------------------------\u001b[0m",
      "\u001b[0;31mFileNotFoundError\u001b[0m                         Traceback (most recent call last)",
      "\u001b[0;32m<ipython-input-7-3a23b49840d4>\u001b[0m in \u001b[0;36m<module>\u001b[0;34m()\u001b[0m\n\u001b[1;32m      3\u001b[0m     \u001b[0mfolder\u001b[0m \u001b[0;34m=\u001b[0m \u001b[0;34m'model_c3d_0{}'\u001b[0m\u001b[0;34m.\u001b[0m\u001b[0mformat\u001b[0m\u001b[0;34m(\u001b[0m\u001b[0mi\u001b[0m\u001b[0;34m)\u001b[0m\u001b[0;34m\u001b[0m\u001b[0m\n\u001b[1;32m      4\u001b[0m     \u001b[0mloss\u001b[0m \u001b[0;34m=\u001b[0m \u001b[0mjoin\u001b[0m\u001b[0;34m(\u001b[0m\u001b[0;34m'..'\u001b[0m\u001b[0;34m,\u001b[0m \u001b[0;34m'models'\u001b[0m\u001b[0;34m,\u001b[0m \u001b[0mfolder\u001b[0m\u001b[0;34m,\u001b[0m \u001b[0;34m'acc_testing_results.pkl'\u001b[0m\u001b[0;34m)\u001b[0m\u001b[0;34m\u001b[0m\u001b[0m\n\u001b[0;32m----> 5\u001b[0;31m     \u001b[0mloss_list\u001b[0m \u001b[0;34m=\u001b[0m \u001b[0mpickle\u001b[0m\u001b[0;34m.\u001b[0m\u001b[0mload\u001b[0m\u001b[0;34m(\u001b[0m \u001b[0mopen\u001b[0m\u001b[0;34m(\u001b[0m\u001b[0mloss\u001b[0m\u001b[0;34m,\u001b[0m \u001b[0;34m'rb'\u001b[0m\u001b[0;34m)\u001b[0m\u001b[0;34m)\u001b[0m\u001b[0;34m\u001b[0m\u001b[0m\n\u001b[0m\u001b[1;32m      6\u001b[0m     \u001b[0maccs\u001b[0m\u001b[0;34m[\u001b[0m\u001b[0mloss\u001b[0m\u001b[0;34m]\u001b[0m \u001b[0;34m=\u001b[0m \u001b[0msum\u001b[0m\u001b[0;34m(\u001b[0m\u001b[0;34m[\u001b[0m\u001b[0mel\u001b[0m\u001b[0;34m[\u001b[0m\u001b[0;36m1\u001b[0m\u001b[0;34m]\u001b[0m \u001b[0;32mfor\u001b[0m \u001b[0mel\u001b[0m \u001b[0;32min\u001b[0m \u001b[0mloss_list\u001b[0m\u001b[0;34m]\u001b[0m\u001b[0;34m)\u001b[0m \u001b[0;34m/\u001b[0m \u001b[0mlen\u001b[0m\u001b[0;34m(\u001b[0m\u001b[0mloss_list\u001b[0m\u001b[0;34m)\u001b[0m\u001b[0;34m\u001b[0m\u001b[0m\n\u001b[1;32m      7\u001b[0m     \u001b[0mprint\u001b[0m\u001b[0;34m(\u001b[0m\u001b[0;34m'{}: {}'\u001b[0m\u001b[0;34m.\u001b[0m\u001b[0mformat\u001b[0m\u001b[0;34m(\u001b[0m\u001b[0mfolder\u001b[0m\u001b[0;34m,\u001b[0m \u001b[0maccs\u001b[0m\u001b[0;34m[\u001b[0m\u001b[0mloss\u001b[0m\u001b[0;34m]\u001b[0m\u001b[0;34m)\u001b[0m\u001b[0;34m)\u001b[0m\u001b[0;34m\u001b[0m\u001b[0m\n",
      "\u001b[0;31mFileNotFoundError\u001b[0m: [Errno 2] No such file or directory: '../models/model_c3d_047/acc_testing_results.pkl'"
     ]
    }
   ],
   "source": [
    "accs = {}\n",
    "for i in range(26, 50):\n",
    "    folder = 'model_c3d_0{}'.format(i)\n",
    "    loss = join('..', 'models', folder, 'acc_testing_results.pkl')\n",
    "    loss_list = pickle.load( open(loss, 'rb'))\n",
    "    accs[loss] = sum([el[1] for el in loss_list]) / len(loss_list)\n",
    "    print('{}: {}'.format(folder, accs[loss]))"
   ]
  },
  {
   "cell_type": "code",
   "execution_count": null,
   "metadata": {},
   "outputs": [],
   "source": []
  }
 ],
 "metadata": {
  "kernelspec": {
   "display_name": "Python 3",
   "language": "python",
   "name": "python3"
  },
  "language_info": {
   "codemirror_mode": {
    "name": "ipython",
    "version": 3
   },
   "file_extension": ".py",
   "mimetype": "text/x-python",
   "name": "python",
   "nbconvert_exporter": "python",
   "pygments_lexer": "ipython3",
   "version": "3.5.2"
  }
 },
 "nbformat": 4,
 "nbformat_minor": 2
}
